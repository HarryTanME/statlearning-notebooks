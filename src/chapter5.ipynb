{
 "cells": [
  {
   "cell_type": "markdown",
   "metadata": {},
   "source": [
    "## Chapter 5: Cross-Validation and Bootstrap ##"
   ]
  },
  {
   "cell_type": "code",
   "execution_count": 21,
   "metadata": {},
   "outputs": [],
   "source": [
    "from __future__ import division\n",
    "import pandas as pd\n",
    "import numpy as np\n",
    "import scipy as sp\n",
    "import matplotlib.pyplot as plt\n",
    "from sklearn.linear_model import LinearRegression\n",
    "from sklearn.model_selection import LeaveOneOut\n",
    "from sklearn.model_selection import KFold\n",
    "from scikits.bootstrap import bootstrap\n",
    "#from sklearn.cross_validation import Bootstrap\n",
    "from sklearn.metrics import mean_squared_error\n",
    "%matplotlib inline"
   ]
  },
  {
   "cell_type": "code",
   "execution_count": 12,
   "metadata": {},
   "outputs": [
    {
     "data": {
      "text/html": [
       "<div>\n",
       "<table border=\"1\" class=\"dataframe\">\n",
       "  <thead>\n",
       "    <tr style=\"text-align: right;\">\n",
       "      <th></th>\n",
       "      <th>mpg</th>\n",
       "      <th>cylinders</th>\n",
       "      <th>displacement</th>\n",
       "      <th>horsepower</th>\n",
       "      <th>weight</th>\n",
       "      <th>acceleration</th>\n",
       "      <th>year</th>\n",
       "      <th>origin</th>\n",
       "      <th>name</th>\n",
       "    </tr>\n",
       "  </thead>\n",
       "  <tbody>\n",
       "    <tr>\n",
       "      <th>0</th>\n",
       "      <td>18.0</td>\n",
       "      <td>8</td>\n",
       "      <td>307.0</td>\n",
       "      <td>130.0</td>\n",
       "      <td>3504</td>\n",
       "      <td>12.0</td>\n",
       "      <td>70</td>\n",
       "      <td>1</td>\n",
       "      <td>chevrolet chevelle malibu</td>\n",
       "    </tr>\n",
       "    <tr>\n",
       "      <th>1</th>\n",
       "      <td>15.0</td>\n",
       "      <td>8</td>\n",
       "      <td>350.0</td>\n",
       "      <td>165.0</td>\n",
       "      <td>3693</td>\n",
       "      <td>11.5</td>\n",
       "      <td>70</td>\n",
       "      <td>1</td>\n",
       "      <td>buick skylark 320</td>\n",
       "    </tr>\n",
       "    <tr>\n",
       "      <th>2</th>\n",
       "      <td>18.0</td>\n",
       "      <td>8</td>\n",
       "      <td>318.0</td>\n",
       "      <td>150.0</td>\n",
       "      <td>3436</td>\n",
       "      <td>11.0</td>\n",
       "      <td>70</td>\n",
       "      <td>1</td>\n",
       "      <td>plymouth satellite</td>\n",
       "    </tr>\n",
       "    <tr>\n",
       "      <th>3</th>\n",
       "      <td>16.0</td>\n",
       "      <td>8</td>\n",
       "      <td>304.0</td>\n",
       "      <td>150.0</td>\n",
       "      <td>3433</td>\n",
       "      <td>12.0</td>\n",
       "      <td>70</td>\n",
       "      <td>1</td>\n",
       "      <td>amc rebel sst</td>\n",
       "    </tr>\n",
       "    <tr>\n",
       "      <th>4</th>\n",
       "      <td>17.0</td>\n",
       "      <td>8</td>\n",
       "      <td>302.0</td>\n",
       "      <td>140.0</td>\n",
       "      <td>3449</td>\n",
       "      <td>10.5</td>\n",
       "      <td>70</td>\n",
       "      <td>1</td>\n",
       "      <td>ford torino</td>\n",
       "    </tr>\n",
       "  </tbody>\n",
       "</table>\n",
       "</div>"
      ],
      "text/plain": [
       "    mpg  cylinders  displacement  horsepower  weight  acceleration  year  \\\n",
       "0  18.0          8         307.0       130.0    3504          12.0    70   \n",
       "1  15.0          8         350.0       165.0    3693          11.5    70   \n",
       "2  18.0          8         318.0       150.0    3436          11.0    70   \n",
       "3  16.0          8         304.0       150.0    3433          12.0    70   \n",
       "4  17.0          8         302.0       140.0    3449          10.5    70   \n",
       "\n",
       "   origin                       name  \n",
       "0       1  chevrolet chevelle malibu  \n",
       "1       1          buick skylark 320  \n",
       "2       1         plymouth satellite  \n",
       "3       1              amc rebel sst  \n",
       "4       1                ford torino  "
      ]
     },
     "execution_count": 12,
     "metadata": {},
     "output_type": "execute_result"
    }
   ],
   "source": [
    "auto_df = pd.read_csv(\"../data/Auto.csv\", na_values=\"?\")\n",
    "auto_df.dropna(inplace=True)\n",
    "auto_df.head()"
   ]
  },
  {
   "cell_type": "code",
   "execution_count": 13,
   "metadata": {},
   "outputs": [
    {
     "data": {
      "text/plain": [
       "<matplotlib.text.Text at 0x7f37546a8278>"
      ]
     },
     "execution_count": 13,
     "metadata": {},
     "output_type": "execute_result"
    },
    {
     "data": {
      "image/png": "[encoded data removed]",
      "text/plain": [
       "<matplotlib.figure.Figure at 0x7f375468a908>"
      ]
     },
     "metadata": {},
     "output_type": "display_data"
    }
   ],
   "source": [
    "ax = auto_df.plot(x=\"horsepower\", y=\"mpg\", style=\"o\")\n",
    "ax.set_ylabel(\"mpg\")"
   ]
  },
  {
   "cell_type": "markdown",
   "metadata": {},
   "source": [
    "### Leave One Out Cross Validation (LOOCV) ###\n",
    "\n",
    "Instead of R's glm, we use Scikit-Learn's LinearRegression to arrive at very similar results."
   ]
  },
  {
   "cell_type": "code",
   "execution_count": 14,
   "metadata": {},
   "outputs": [
    {
     "data": {
      "text/plain": [
       "24.231513517929226"
      ]
     },
     "execution_count": 14,
     "metadata": {},
     "output_type": "execute_result"
    }
   ],
   "source": [
    "clf = LinearRegression()\n",
    "loo = LeaveOneOut()\n",
    "X = auto_df[[\"horsepower\"]].values\n",
    "y = auto_df[\"mpg\"].values\n",
    "n = np.shape(X)[0]\n",
    "mses = []\n",
    "for train, test in loo.split(X):\n",
    "    Xtrain, ytrain, Xtest, ytest = X[train], y[train], X[test], y[test]\n",
    "    clf.fit(Xtrain, ytrain)\n",
    "    ypred = clf.predict(Xtest)\n",
    "    mses.append(mean_squared_error(ytest, ypred))\n",
    "np.mean(mses)"
   ]
  },
  {
   "cell_type": "code",
   "execution_count": 15,
   "metadata": {},
   "outputs": [
    {
     "data": {
      "text/plain": [
       "24.086699242104977"
      ]
     },
     "execution_count": 15,
     "metadata": {},
     "output_type": "execute_result"
    }
   ],
   "source": [
    "def loo_shortcut(X, y):\n",
    "    \"\"\" implement one-pass LOOCV calculation for linear models from ISLR Page 180 (Eqn 5.2) \"\"\"\n",
    "    clf = LinearRegression()\n",
    "    clf.fit(X, y)\n",
    "    ypred = clf.predict(X)\n",
    "    xbar = np.mean(X, axis=0)\n",
    "    xsum = np.sum(np.power(X - xbar, 2))\n",
    "    nrows = np.shape(X)[0]\n",
    "    mses = []\n",
    "    for row in range(0, nrows):\n",
    "        hi = (1 / nrows) + (np.sum(X[row] - xbar) ** 2 / xsum)\n",
    "        mse = (y[row] - ypred[row]) ** 2 / (1 - hi)\n",
    "        mses.append(mse)\n",
    "    return np.mean(mses)\n",
    "\n",
    "loo_shortcut(auto_df[[\"horsepower\"]].values, auto_df[\"mpg\"].values)"
   ]
  },
  {
   "cell_type": "code",
   "execution_count": 16,
   "metadata": {},
   "outputs": [
    {
     "data": {
      "text/plain": [
       "<matplotlib.text.Text at 0x7f37545d8198>"
      ]
     },
     "execution_count": 16,
     "metadata": {},
     "output_type": "execute_result"
    },
    {
     "data": {
      "image/png": "[encoded data removed]",
      "text/plain": [
       "<matplotlib.figure.Figure at 0x7f37545cd390>"
      ]
     },
     "metadata": {},
     "output_type": "display_data"
    }
   ],
   "source": [
    "# LOOCV against models of different degrees\n",
    "auto_df[\"horsepower^2\"] = auto_df[\"horsepower\"] * auto_df[\"horsepower\"]\n",
    "auto_df[\"horsepower^3\"] = auto_df[\"horsepower^2\"] * auto_df[\"horsepower\"]\n",
    "auto_df[\"horsepower^4\"] = auto_df[\"horsepower^3\"] * auto_df[\"horsepower\"]\n",
    "auto_df[\"horsepower^5\"] = auto_df[\"horsepower^4\"] * auto_df[\"horsepower\"]\n",
    "auto_df[\"unit\"] = 1\n",
    "colnames = [\"unit\", \"horsepower\", \"horsepower^2\", \"horsepower^3\", \"horsepower^4\", \"horsepower^5\"]\n",
    "cv_errors = []\n",
    "for ncols in range(2, 6):\n",
    "    X = auto_df[colnames[0:ncols]]\n",
    "    y = auto_df[\"mpg\"]\n",
    "    clf = LinearRegression()\n",
    "    clf.fit(X, y)\n",
    "    cv_errors.append(loo_shortcut(X.values, y.values))\n",
    "plt.plot(range(1,5), cv_errors)\n",
    "plt.xlabel(\"degree\")\n",
    "plt.ylabel(\"cv.error\")"
   ]
  },
  {
   "cell_type": "markdown",
   "metadata": {},
   "source": [
    "### K-Fold Cross Validation ###"
   ]
  },
  {
   "cell_type": "code",
   "execution_count": 18,
   "metadata": {},
   "outputs": [
    {
     "data": {
      "text/plain": [
       "<matplotlib.text.Text at 0x7f3754508278>"
      ]
     },
     "execution_count": 18,
     "metadata": {},
     "output_type": "execute_result"
    },
    {
     "data": {
      "image/png": "[encoded data removed]",
      "text/plain": [
       "<matplotlib.figure.Figure at 0x7f375802e668>"
      ]
     },
     "metadata": {},
     "output_type": "display_data"
    }
   ],
   "source": [
    "cv_errors = []\n",
    "for ncols in range(2, 6):\n",
    "    # each ncol corresponds to a polynomial model\n",
    "    X = auto_df[colnames[0:ncols]].values\n",
    "    y = auto_df[\"mpg\"].values\n",
    "    kfold = KFold(n_splits=10)\n",
    "    mses = []\n",
    "    for train, test in kfold.split(X):\n",
    "        # each model is cross validated 10 times\n",
    "        Xtrain, ytrain, Xtest, ytest = X[train], y[train], X[test], y[test]   \n",
    "        clf = LinearRegression()\n",
    "        clf.fit(X, y)\n",
    "        ypred = clf.predict(Xtest)\n",
    "        mses.append(mean_squared_error(ypred, ytest))\n",
    "    cv_errors.append(np.mean(mses))\n",
    "plt.plot(range(1,5), cv_errors)\n",
    "plt.xlabel(\"degree\")\n",
    "plt.ylabel(\"cv.error\")"
   ]
  },
  {
   "cell_type": "markdown",
   "metadata": {},
   "source": [
    "### Bootstrap ###"
   ]
  },
  {
   "cell_type": "code",
   "execution_count": 23,
   "metadata": {},
   "outputs": [
    {
     "ename": "TypeError",
     "evalue": "'module' object is not callable",
     "output_type": "error",
     "traceback": [
      "\u001b[0;31m---------------------------------------------------------------------------\u001b[0m",
      "\u001b[0;31mTypeError\u001b[0m                                 Traceback (most recent call last)",
      "\u001b[0;32m<ipython-input-23-1ad7bd54040a>\u001b[0m in \u001b[0;36m<module>\u001b[0;34m()\u001b[0m\n\u001b[1;32m      5\u001b[0m     \u001b[0my\u001b[0m \u001b[0;34m=\u001b[0m \u001b[0mauto_df\u001b[0m\u001b[0;34m[\u001b[0m\u001b[0;34m\"mpg\"\u001b[0m\u001b[0;34m]\u001b[0m\u001b[0;34m.\u001b[0m\u001b[0mvalues\u001b[0m\u001b[0;34m\u001b[0m\u001b[0m\n\u001b[1;32m      6\u001b[0m     \u001b[0mn\u001b[0m \u001b[0;34m=\u001b[0m \u001b[0mlen\u001b[0m\u001b[0;34m(\u001b[0m\u001b[0mauto_df\u001b[0m\u001b[0;34m)\u001b[0m\u001b[0;34m\u001b[0m\u001b[0m\n\u001b[0;32m----> 7\u001b[0;31m     \u001b[0mbs\u001b[0m \u001b[0;34m=\u001b[0m \u001b[0mbootstrap\u001b[0m\u001b[0;34m(\u001b[0m\u001b[0mn\u001b[0m\u001b[0;34m,\u001b[0m \u001b[0mtrain_size\u001b[0m\u001b[0;34m=\u001b[0m\u001b[0mint\u001b[0m\u001b[0;34m(\u001b[0m\u001b[0;36m0.9\u001b[0m\u001b[0;34m*\u001b[0m\u001b[0mn\u001b[0m\u001b[0;34m)\u001b[0m\u001b[0;34m,\u001b[0m \u001b[0mtest_size\u001b[0m\u001b[0;34m=\u001b[0m\u001b[0mint\u001b[0m\u001b[0;34m(\u001b[0m\u001b[0;36m0.1\u001b[0m\u001b[0;34m*\u001b[0m\u001b[0mn\u001b[0m\u001b[0;34m)\u001b[0m\u001b[0;34m,\u001b[0m \u001b[0mn_iter\u001b[0m\u001b[0;34m=\u001b[0m\u001b[0;36m10\u001b[0m\u001b[0;34m,\u001b[0m \u001b[0mrandom_state\u001b[0m\u001b[0;34m=\u001b[0m\u001b[0;36m0\u001b[0m\u001b[0;34m)\u001b[0m\u001b[0;34m\u001b[0m\u001b[0m\n\u001b[0m\u001b[1;32m      8\u001b[0m     \u001b[0mmses\u001b[0m \u001b[0;34m=\u001b[0m \u001b[0;34m[\u001b[0m\u001b[0;34m]\u001b[0m\u001b[0;34m\u001b[0m\u001b[0m\n\u001b[1;32m      9\u001b[0m     \u001b[0;32mfor\u001b[0m \u001b[0mtrain\u001b[0m\u001b[0;34m,\u001b[0m \u001b[0mtest\u001b[0m \u001b[0;32min\u001b[0m \u001b[0mbs\u001b[0m\u001b[0;34m:\u001b[0m\u001b[0;34m\u001b[0m\u001b[0m\n",
      "\u001b[0;31mTypeError\u001b[0m: 'module' object is not callable"
     ]
    }
   ],
   "source": [
    "cv_errors = []\n",
    "for ncols in range(2, 6):\n",
    "    # each ncol corresponds to a polynomial model\n",
    "    X = auto_df[colnames[0:ncols]].values\n",
    "    y = auto_df[\"mpg\"].values\n",
    "    n = len(auto_df)\n",
    "    bs = Bootstrap(n, train_size=int(0.9*n), test_size=int(0.1*n), n_iter=10, random_state=0)\n",
    "    mses = []\n",
    "    for train, test in bs:\n",
    "        # each model is resampled 10 times\n",
    "        Xtrain, ytrain, Xtest, ytest = X[train], y[train], X[test], y[test]   \n",
    "        clf = LinearRegression()\n",
    "        clf.fit(X, y)\n",
    "        ypred = clf.predict(Xtest)\n",
    "        mses.append(mean_squared_error(ypred, ytest))\n",
    "    cv_errors.append(np.mean(mses))\n",
    "plt.plot(range(1,5), cv_errors)\n",
    "plt.xlabel(\"degree\")\n",
    "plt.ylabel(\"cv.error\")"
   ]
  },
  {
   "cell_type": "code",
   "execution_count": null,
   "metadata": {},
   "outputs": [],
   "source": [
    "def alpha(x, y):\n",
    "    \"\"\" allocate alpha of your assets to x and (1-alpha) to y for optimum \"\"\"\n",
    "    vx = np.var(x)\n",
    "    vy = np.var(y)\n",
    "    cxy = np.cov(x, y)\n",
    "    return ((vy - cxy) / (vx + vy - 2 * cxy))[0, 1]\n",
    "\n",
    "# From ISLR package, retrieved with write.csv(Portfolio, \"portfolio.csv\", row.names=FALSE)\n",
    "portfolio_df = pd.read_csv(\"../data/Portfolio.csv\")\n",
    "portfolio_df.head()"
   ]
  },
  {
   "cell_type": "code",
   "execution_count": null,
   "metadata": {},
   "outputs": [],
   "source": [
    "alpha(portfolio_df[\"X\"].values, portfolio_df[\"Y\"].values)"
   ]
  },
  {
   "cell_type": "code",
   "execution_count": null,
   "metadata": {},
   "outputs": [],
   "source": [
    "# Find the variance of alpha - shows that bootstrapping results in a near-normal distribution\n",
    "X = portfolio_df[\"X\"].values\n",
    "Y = portfolio_df[\"Y\"].values\n",
    "bs = Bootstrap(len(portfolio_df), n_iter=1000, train_size=99, random_state=0)\n",
    "alphas = []\n",
    "for train, test in bs:\n",
    "    xtrain, ytrain = X[train], Y[train]\n",
    "    alphas.append(alpha(xtrain, ytrain))\n",
    "plt.hist(alphas)"
   ]
  }
 ],
 "metadata": {
  "kernelspec": {
   "display_name": "Python 3",
   "language": "python",
   "name": "python3"
  },
  "language_info": {
   "codemirror_mode": {
    "name": "ipython",
    "version": 3
   },
   "file_extension": ".py",
   "mimetype": "text/x-python",
   "name": "python",
   "nbconvert_exporter": "python",
   "pygments_lexer": "ipython3",
   "version": "3.6.2"
  }
 },
 "nbformat": 4,
 "nbformat_minor": 1
}
